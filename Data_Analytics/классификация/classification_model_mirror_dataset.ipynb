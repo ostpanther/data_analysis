{
  "cells": [
    {
      "cell_type": "markdown",
      "metadata": {
        "id": "vwcHd-SZhON1"
      },
      "source": [
        "# Задание 1\n",
        "\n",
        "Набор данных [отсюда](https://www.kaggle.com/datasets/uciml/glass)"
      ]
    },
    {
      "cell_type": "code",
      "execution_count": 4,
      "metadata": {},
      "outputs": [],
      "source": [
        "# Id number: 1 to 214 (removed from CSV file)\n",
        "# RI: refractive index\n",
        "# Na: Sodium (unit measurement: weight percent in corresponding oxide, as are attributes 4-10)\n",
        "# Mg: Magnesium\n",
        "# Al: Aluminum\n",
        "# Si: Silicon\n",
        "# K: Potassium\n",
        "# Ca: Calcium\n",
        "# Ba: Barium\n",
        "# Fe: Iron\n",
        "# Type of glass: (class attribute)\n",
        "# -- 1 building_windows_float_processed\n",
        "# -- 2 building_windows_non_float_processed\n",
        "# -- 3 vehicle_windows_float_processed\n",
        "# -- 4 vehicle_windows_non_float_processed (none in this database)\n",
        "# -- 5 containers\n",
        "# -- 6 tableware\n",
        "# -- 7 headlamps"
      ]
    },
    {
      "cell_type": "markdown",
      "metadata": {},
      "source": [
        "### Логистическая регрессия"
      ]
    },
    {
      "cell_type": "code",
      "execution_count": 90,
      "metadata": {
        "id": "9ekQNpQhhN2Q"
      },
      "outputs": [
        {
          "data": {
            "text/html": [
              "<div>\n",
              "<style scoped>\n",
              "    .dataframe tbody tr th:only-of-type {\n",
              "        vertical-align: middle;\n",
              "    }\n",
              "\n",
              "    .dataframe tbody tr th {\n",
              "        vertical-align: top;\n",
              "    }\n",
              "\n",
              "    .dataframe thead th {\n",
              "        text-align: right;\n",
              "    }\n",
              "</style>\n",
              "<table border=\"1\" class=\"dataframe\">\n",
              "  <thead>\n",
              "    <tr style=\"text-align: right;\">\n",
              "      <th></th>\n",
              "      <th>RI</th>\n",
              "      <th>Na</th>\n",
              "      <th>Mg</th>\n",
              "      <th>Al</th>\n",
              "      <th>Si</th>\n",
              "      <th>K</th>\n",
              "      <th>Ca</th>\n",
              "      <th>Ba</th>\n",
              "      <th>Fe</th>\n",
              "      <th>Type</th>\n",
              "    </tr>\n",
              "  </thead>\n",
              "  <tbody>\n",
              "    <tr>\n",
              "      <th>0</th>\n",
              "      <td>1.52101</td>\n",
              "      <td>13.64</td>\n",
              "      <td>4.49</td>\n",
              "      <td>1.10</td>\n",
              "      <td>71.78</td>\n",
              "      <td>0.06</td>\n",
              "      <td>8.75</td>\n",
              "      <td>0.0</td>\n",
              "      <td>0.00</td>\n",
              "      <td>1</td>\n",
              "    </tr>\n",
              "    <tr>\n",
              "      <th>1</th>\n",
              "      <td>1.51761</td>\n",
              "      <td>13.89</td>\n",
              "      <td>3.60</td>\n",
              "      <td>1.36</td>\n",
              "      <td>72.73</td>\n",
              "      <td>0.48</td>\n",
              "      <td>7.83</td>\n",
              "      <td>0.0</td>\n",
              "      <td>0.00</td>\n",
              "      <td>1</td>\n",
              "    </tr>\n",
              "    <tr>\n",
              "      <th>2</th>\n",
              "      <td>1.51618</td>\n",
              "      <td>13.53</td>\n",
              "      <td>3.55</td>\n",
              "      <td>1.54</td>\n",
              "      <td>72.99</td>\n",
              "      <td>0.39</td>\n",
              "      <td>7.78</td>\n",
              "      <td>0.0</td>\n",
              "      <td>0.00</td>\n",
              "      <td>1</td>\n",
              "    </tr>\n",
              "    <tr>\n",
              "      <th>3</th>\n",
              "      <td>1.51766</td>\n",
              "      <td>13.21</td>\n",
              "      <td>3.69</td>\n",
              "      <td>1.29</td>\n",
              "      <td>72.61</td>\n",
              "      <td>0.57</td>\n",
              "      <td>8.22</td>\n",
              "      <td>0.0</td>\n",
              "      <td>0.00</td>\n",
              "      <td>1</td>\n",
              "    </tr>\n",
              "    <tr>\n",
              "      <th>4</th>\n",
              "      <td>1.51742</td>\n",
              "      <td>13.27</td>\n",
              "      <td>3.62</td>\n",
              "      <td>1.24</td>\n",
              "      <td>73.08</td>\n",
              "      <td>0.55</td>\n",
              "      <td>8.07</td>\n",
              "      <td>0.0</td>\n",
              "      <td>0.00</td>\n",
              "      <td>1</td>\n",
              "    </tr>\n",
              "    <tr>\n",
              "      <th>5</th>\n",
              "      <td>1.51596</td>\n",
              "      <td>12.79</td>\n",
              "      <td>3.61</td>\n",
              "      <td>1.62</td>\n",
              "      <td>72.97</td>\n",
              "      <td>0.64</td>\n",
              "      <td>8.07</td>\n",
              "      <td>0.0</td>\n",
              "      <td>0.26</td>\n",
              "      <td>1</td>\n",
              "    </tr>\n",
              "    <tr>\n",
              "      <th>6</th>\n",
              "      <td>1.51743</td>\n",
              "      <td>13.30</td>\n",
              "      <td>3.60</td>\n",
              "      <td>1.14</td>\n",
              "      <td>73.09</td>\n",
              "      <td>0.58</td>\n",
              "      <td>8.17</td>\n",
              "      <td>0.0</td>\n",
              "      <td>0.00</td>\n",
              "      <td>1</td>\n",
              "    </tr>\n",
              "    <tr>\n",
              "      <th>7</th>\n",
              "      <td>1.51756</td>\n",
              "      <td>13.15</td>\n",
              "      <td>3.61</td>\n",
              "      <td>1.05</td>\n",
              "      <td>73.24</td>\n",
              "      <td>0.57</td>\n",
              "      <td>8.24</td>\n",
              "      <td>0.0</td>\n",
              "      <td>0.00</td>\n",
              "      <td>1</td>\n",
              "    </tr>\n",
              "    <tr>\n",
              "      <th>8</th>\n",
              "      <td>1.51918</td>\n",
              "      <td>14.04</td>\n",
              "      <td>3.58</td>\n",
              "      <td>1.37</td>\n",
              "      <td>72.08</td>\n",
              "      <td>0.56</td>\n",
              "      <td>8.30</td>\n",
              "      <td>0.0</td>\n",
              "      <td>0.00</td>\n",
              "      <td>1</td>\n",
              "    </tr>\n",
              "    <tr>\n",
              "      <th>9</th>\n",
              "      <td>1.51755</td>\n",
              "      <td>13.00</td>\n",
              "      <td>3.60</td>\n",
              "      <td>1.36</td>\n",
              "      <td>72.99</td>\n",
              "      <td>0.57</td>\n",
              "      <td>8.40</td>\n",
              "      <td>0.0</td>\n",
              "      <td>0.11</td>\n",
              "      <td>1</td>\n",
              "    </tr>\n",
              "  </tbody>\n",
              "</table>\n",
              "</div>"
            ],
            "text/plain": [
              "        RI     Na    Mg    Al     Si     K    Ca   Ba    Fe  Type\n",
              "0  1.52101  13.64  4.49  1.10  71.78  0.06  8.75  0.0  0.00     1\n",
              "1  1.51761  13.89  3.60  1.36  72.73  0.48  7.83  0.0  0.00     1\n",
              "2  1.51618  13.53  3.55  1.54  72.99  0.39  7.78  0.0  0.00     1\n",
              "3  1.51766  13.21  3.69  1.29  72.61  0.57  8.22  0.0  0.00     1\n",
              "4  1.51742  13.27  3.62  1.24  73.08  0.55  8.07  0.0  0.00     1\n",
              "5  1.51596  12.79  3.61  1.62  72.97  0.64  8.07  0.0  0.26     1\n",
              "6  1.51743  13.30  3.60  1.14  73.09  0.58  8.17  0.0  0.00     1\n",
              "7  1.51756  13.15  3.61  1.05  73.24  0.57  8.24  0.0  0.00     1\n",
              "8  1.51918  14.04  3.58  1.37  72.08  0.56  8.30  0.0  0.00     1\n",
              "9  1.51755  13.00  3.60  1.36  72.99  0.57  8.40  0.0  0.11     1"
            ]
          },
          "execution_count": 90,
          "metadata": {},
          "output_type": "execute_result"
        }
      ],
      "source": [
        "import pandas as pd\n",
        "import matplotlib.pyplot as plt\n",
        "import seaborn as sns\n",
        "\n",
        "import sklearn\n",
        "from sklearn.model_selection import train_test_split, cross_validate, GridSearchCV\n",
        "from sklearn.linear_model import LogisticRegression\n",
        "from sklearn import metrics\n",
        "from sklearn.metrics import classification_report, accuracy_score, confusion_matrix, roc_curve, auc\n",
        "from sklearn.neighbors import KNeighborsClassifier\n",
        "\n",
        "from sklearn import tree\n",
        "\n",
        "\n",
        "df = pd.read_csv('https://raw.githubusercontent.com/AnnSenina/Other/main/glass.csv')\n",
        "df.head(10)"
      ]
    },
    {
      "cell_type": "code",
      "execution_count": 89,
      "metadata": {},
      "outputs": [
        {
          "name": "stdout",
          "output_type": "stream",
          "text": [
            "<class 'pandas.core.frame.DataFrame'>\n",
            "RangeIndex: 214 entries, 0 to 213\n",
            "Data columns (total 10 columns):\n",
            " #   Column  Non-Null Count  Dtype  \n",
            "---  ------  --------------  -----  \n",
            " 0   RI      214 non-null    float64\n",
            " 1   Na      214 non-null    float64\n",
            " 2   Mg      214 non-null    float64\n",
            " 3   Al      214 non-null    float64\n",
            " 4   Si      214 non-null    float64\n",
            " 5   K       214 non-null    float64\n",
            " 6   Ca      214 non-null    float64\n",
            " 7   Ba      214 non-null    float64\n",
            " 8   Fe      214 non-null    float64\n",
            " 9   Type    214 non-null    int64  \n",
            "dtypes: float64(9), int64(1)\n",
            "memory usage: 16.8 KB\n"
          ]
        }
      ],
      "source": [
        "df.info()"
      ]
    },
    {
      "cell_type": "code",
      "execution_count": 91,
      "metadata": {
        "id": "04BT4yEchM4x"
      },
      "outputs": [],
      "source": [
        "x = df[['RI', 'Na', 'Mg', 'Al', 'Si', 'K', 'Ca', 'Ba', 'Fe']]\n",
        "y = df['Type']\n",
        "x_train, x_test, y_train, y_test = train_test_split(x, y, test_size = 0.3, random_state = 0)"
      ]
    },
    {
      "cell_type": "code",
      "execution_count": 67,
      "metadata": {
        "id": "RZ_GUuFVhM2N"
      },
      "outputs": [],
      "source": [
        "log_regr = LogisticRegression(solver='lbfgs', max_iter=3000)\n",
        "log_regr.fit(x_train,y_train)\n",
        "y_pred = log_regr.predict(x_test)\n",
        "# тут была ошибка:\n",
        "\n",
        "# /Library/Frameworks/Python.framework/Versions/3.12/lib/python3.12/site-packages/sklearn/linear_model/_logistic.py:469: ConvergenceWarning: lbfgs failed to converge (status=1):\n",
        "# STOP: TOTAL NO. of ITERATIONS REACHED LIMIT.\n",
        "\n",
        "# Increase the number of iterations (max_iter) or scale the data as shown in:\n",
        "#     https://scikit-learn.org/stable/modules/preprocessing.html\n",
        "# Please also refer to the documentation for alternative solver options:\n",
        "#     https://scikit-learn.org/stable/modules/linear_model.html#logistic-regression\n",
        "#   n_iter_i = _check_optimize_result(\n",
        "    \n",
        "# Удалось исправить увеличив итерации "
      ]
    },
    {
      "cell_type": "code",
      "execution_count": 68,
      "metadata": {
        "id": "0U4JO6YShMtw"
      },
      "outputs": [
        {
          "data": {
            "text/html": [
              "<div>\n",
              "<style scoped>\n",
              "    .dataframe tbody tr th:only-of-type {\n",
              "        vertical-align: middle;\n",
              "    }\n",
              "\n",
              "    .dataframe tbody tr th {\n",
              "        vertical-align: top;\n",
              "    }\n",
              "\n",
              "    .dataframe thead th {\n",
              "        text-align: right;\n",
              "    }\n",
              "</style>\n",
              "<table border=\"1\" class=\"dataframe\">\n",
              "  <thead>\n",
              "    <tr style=\"text-align: right;\">\n",
              "      <th></th>\n",
              "      <th>Actual</th>\n",
              "      <th>Predicted</th>\n",
              "    </tr>\n",
              "  </thead>\n",
              "  <tbody>\n",
              "    <tr>\n",
              "      <th>197</th>\n",
              "      <td>7</td>\n",
              "      <td>7</td>\n",
              "    </tr>\n",
              "    <tr>\n",
              "      <th>37</th>\n",
              "      <td>1</td>\n",
              "      <td>1</td>\n",
              "    </tr>\n",
              "    <tr>\n",
              "      <th>89</th>\n",
              "      <td>2</td>\n",
              "      <td>2</td>\n",
              "    </tr>\n",
              "    <tr>\n",
              "      <th>176</th>\n",
              "      <td>6</td>\n",
              "      <td>2</td>\n",
              "    </tr>\n",
              "    <tr>\n",
              "      <th>170</th>\n",
              "      <td>5</td>\n",
              "      <td>2</td>\n",
              "    </tr>\n",
              "    <tr>\n",
              "      <th>...</th>\n",
              "      <td>...</td>\n",
              "      <td>...</td>\n",
              "    </tr>\n",
              "    <tr>\n",
              "      <th>157</th>\n",
              "      <td>3</td>\n",
              "      <td>1</td>\n",
              "    </tr>\n",
              "    <tr>\n",
              "      <th>8</th>\n",
              "      <td>1</td>\n",
              "      <td>2</td>\n",
              "    </tr>\n",
              "    <tr>\n",
              "      <th>40</th>\n",
              "      <td>1</td>\n",
              "      <td>1</td>\n",
              "    </tr>\n",
              "    <tr>\n",
              "      <th>129</th>\n",
              "      <td>2</td>\n",
              "      <td>2</td>\n",
              "    </tr>\n",
              "    <tr>\n",
              "      <th>13</th>\n",
              "      <td>1</td>\n",
              "      <td>1</td>\n",
              "    </tr>\n",
              "  </tbody>\n",
              "</table>\n",
              "<p>65 rows × 2 columns</p>\n",
              "</div>"
            ],
            "text/plain": [
              "     Actual  Predicted\n",
              "197       7          7\n",
              "37        1          1\n",
              "89        2          2\n",
              "176       6          2\n",
              "170       5          2\n",
              "..      ...        ...\n",
              "157       3          1\n",
              "8         1          2\n",
              "40        1          1\n",
              "129       2          2\n",
              "13        1          1\n",
              "\n",
              "[65 rows x 2 columns]"
            ]
          },
          "execution_count": 68,
          "metadata": {},
          "output_type": "execute_result"
        }
      ],
      "source": [
        "df_logreg = pd.DataFrame({'Actual': y_test, 'Predicted': y_pred})\n",
        "df_logreg"
      ]
    },
    {
      "cell_type": "code",
      "execution_count": 69,
      "metadata": {},
      "outputs": [
        {
          "data": {
            "text/plain": [
              "array([[13,  9,  4,  0,  0,  0],\n",
              "       [ 8, 15,  3,  1,  1,  0],\n",
              "       [ 0,  0,  0,  0,  0,  0],\n",
              "       [ 0,  1,  0,  1,  0,  0],\n",
              "       [ 0,  1,  0,  0,  0,  0],\n",
              "       [ 0,  0,  0,  0,  1,  7]])"
            ]
          },
          "execution_count": 69,
          "metadata": {},
          "output_type": "execute_result"
        }
      ],
      "source": [
        "confusion_matrix(y_pred, y_test)"
      ]
    },
    {
      "cell_type": "code",
      "execution_count": 70,
      "metadata": {},
      "outputs": [
        {
          "name": "stdout",
          "output_type": "stream",
          "text": [
            "              precision    recall  f1-score   support\n",
            "\n",
            "           1       0.50      0.62      0.55        21\n",
            "           2       0.54      0.58      0.56        26\n",
            "           3       0.00      0.00      0.00         7\n",
            "           5       0.50      0.50      0.50         2\n",
            "           6       0.00      0.00      0.00         2\n",
            "           7       0.88      1.00      0.93         7\n",
            "\n",
            "    accuracy                           0.55        65\n",
            "   macro avg       0.40      0.45      0.42        65\n",
            "weighted avg       0.49      0.55      0.52        65\n",
            "\n"
          ]
        },
        {
          "name": "stderr",
          "output_type": "stream",
          "text": [
            "/Library/Frameworks/Python.framework/Versions/3.12/lib/python3.12/site-packages/sklearn/metrics/_classification.py:1509: UndefinedMetricWarning: Precision is ill-defined and being set to 0.0 in labels with no predicted samples. Use `zero_division` parameter to control this behavior.\n",
            "  _warn_prf(average, modifier, f\"{metric.capitalize()} is\", len(result))\n",
            "/Library/Frameworks/Python.framework/Versions/3.12/lib/python3.12/site-packages/sklearn/metrics/_classification.py:1509: UndefinedMetricWarning: Precision is ill-defined and being set to 0.0 in labels with no predicted samples. Use `zero_division` parameter to control this behavior.\n",
            "  _warn_prf(average, modifier, f\"{metric.capitalize()} is\", len(result))\n",
            "/Library/Frameworks/Python.framework/Versions/3.12/lib/python3.12/site-packages/sklearn/metrics/_classification.py:1509: UndefinedMetricWarning: Precision is ill-defined and being set to 0.0 in labels with no predicted samples. Use `zero_division` parameter to control this behavior.\n",
            "  _warn_prf(average, modifier, f\"{metric.capitalize()} is\", len(result))\n"
          ]
        }
      ],
      "source": [
        "print(classification_report(y_test, y_pred))\n"
      ]
    },
    {
      "cell_type": "markdown",
      "metadata": {},
      "source": [
        "55% точность модели \n",
        "Результат, конечно не совсем понятный и не удовлетворительный"
      ]
    },
    {
      "cell_type": "code",
      "execution_count": 86,
      "metadata": {},
      "outputs": [
        {
          "name": "stdout",
          "output_type": "stream",
          "text": [
            "              precision    recall  f1-score   support\n",
            "\n",
            "           1       0.48      0.48      0.48        21\n",
            "           2       0.50      0.31      0.38        26\n",
            "           3       0.15      0.29      0.20         7\n",
            "           5       0.50      1.00      0.67         2\n",
            "           6       0.50      1.00      0.67         2\n",
            "           7       1.00      1.00      1.00         7\n",
            "\n",
            "    accuracy                           0.48        65\n",
            "   macro avg       0.52      0.68      0.57        65\n",
            "weighted avg       0.51      0.48      0.48        65\n",
            "\n"
          ]
        }
      ],
      "source": [
        "log_regr = LogisticRegression(class_weight=\"balanced\", solver='lbfgs', max_iter=3000)\n",
        "log_regr.fit(x_train, y_train)\n",
        "y_pred = log_regr.predict(x_test)\n",
        "print(classification_report(y_test, y_pred))"
      ]
    },
    {
      "cell_type": "markdown",
      "metadata": {},
      "source": [
        "еще хуже...\n",
        "\n",
        "Кросс валидация на таких данных, не дает эффективности\n",
        "\n"
      ]
    },
    {
      "cell_type": "markdown",
      "metadata": {},
      "source": [
        "### Случайный лес"
      ]
    },
    {
      "cell_type": "code",
      "execution_count": 92,
      "metadata": {},
      "outputs": [],
      "source": [
        "x = df[['RI', 'Na', 'Mg', 'Al', 'Si', 'K', 'Ca', 'Ba', 'Fe']]\n",
        "y = df['Type']\n",
        "clf = tree.DecisionTreeClassifier(\n",
        "                               # максимальная глубина дерева\n",
        "                               max_depth=5,\n",
        "                               # минимальное число элементов в узле для разбиения (может быть долей)\n",
        "                               min_samples_split=5,\n",
        "                               # минимальное число элементов в листе (может быть долей)\n",
        "                               min_samples_leaf=5)\n",
        "                               # минимальное значение дельты impurity (примеси)\n",
        "                               # min_impurity_decrease=0\n",
        "clf = clf.fit(x, y)"
      ]
    },
    {
      "cell_type": "code",
      "execution_count": 93,
      "metadata": {},
      "outputs": [],
      "source": [
        "x_train, x_test, y_train, y_test = train_test_split(x, y, test_size=0.3, stratify=y)\n",
        "clf.fit(x_train, y_train)\n",
        "y_pred = clf.predict(x_test)"
      ]
    },
    {
      "cell_type": "code",
      "execution_count": 94,
      "metadata": {},
      "outputs": [
        {
          "name": "stdout",
          "output_type": "stream",
          "text": [
            "              precision    recall  f1-score   support\n",
            "\n",
            "           1       0.45      0.67      0.54        21\n",
            "           2       0.56      0.43      0.49        23\n",
            "           3       0.00      0.00      0.00         5\n",
            "           5       1.00      0.50      0.67         4\n",
            "           6       0.33      0.33      0.33         3\n",
            "           7       0.89      0.89      0.89         9\n",
            "\n",
            "    accuracy                           0.54        65\n",
            "   macro avg       0.54      0.47      0.49        65\n",
            "weighted avg       0.54      0.54      0.53        65\n",
            "\n"
          ]
        }
      ],
      "source": [
        "print(classification_report(y_test, y_pred))"
      ]
    },
    {
      "cell_type": "code",
      "execution_count": 95,
      "metadata": {},
      "outputs": [
        {
          "data": {
            "text/plain": [
              "{'fit_time': array([0.00283289, 0.00144291, 0.00134706, 0.00112414, 0.00115585]),\n",
              " 'score_time': array([0.00129008, 0.00083399, 0.00077605, 0.00067186, 0.00066209]),\n",
              " 'estimator': [DecisionTreeClassifier(max_depth=5, min_samples_leaf=5, min_samples_split=5),\n",
              "  DecisionTreeClassifier(max_depth=5, min_samples_leaf=5, min_samples_split=5),\n",
              "  DecisionTreeClassifier(max_depth=5, min_samples_leaf=5, min_samples_split=5),\n",
              "  DecisionTreeClassifier(max_depth=5, min_samples_leaf=5, min_samples_split=5),\n",
              "  DecisionTreeClassifier(max_depth=5, min_samples_leaf=5, min_samples_split=5)],\n",
              " 'test_score': array([0.7       , 0.66666667, 0.76666667, 0.73333333, 0.72413793]),\n",
              " 'train_score': array([0.81512605, 0.79831933, 0.80672269, 0.79831933, 0.76666667])}"
            ]
          },
          "execution_count": 95,
          "metadata": {},
          "output_type": "execute_result"
        }
      ],
      "source": [
        "#Кросс-валидация\n",
        "scores = cross_validate(clf,\n",
        "                        x_train,\n",
        "                        y_train,\n",
        "                        scoring='accuracy',\n",
        "                        cv=5,\n",
        "                        return_estimator=True,\n",
        "                        return_train_score=True)\n",
        "\n",
        "scores"
      ]
    },
    {
      "cell_type": "code",
      "execution_count": 96,
      "metadata": {},
      "outputs": [
        {
          "data": {
            "text/html": [
              "<div>\n",
              "<style scoped>\n",
              "    .dataframe tbody tr th:only-of-type {\n",
              "        vertical-align: middle;\n",
              "    }\n",
              "\n",
              "    .dataframe tbody tr th {\n",
              "        vertical-align: top;\n",
              "    }\n",
              "\n",
              "    .dataframe thead th {\n",
              "        text-align: right;\n",
              "    }\n",
              "</style>\n",
              "<table border=\"1\" class=\"dataframe\">\n",
              "  <thead>\n",
              "    <tr style=\"text-align: right;\">\n",
              "      <th></th>\n",
              "      <th>fit_time</th>\n",
              "      <th>score_time</th>\n",
              "      <th>estimator</th>\n",
              "      <th>test_score</th>\n",
              "      <th>train_score</th>\n",
              "    </tr>\n",
              "  </thead>\n",
              "  <tbody>\n",
              "    <tr>\n",
              "      <th>0</th>\n",
              "      <td>0.002833</td>\n",
              "      <td>0.001290</td>\n",
              "      <td>DecisionTreeClassifier(max_depth=5, min_sample...</td>\n",
              "      <td>0.700000</td>\n",
              "      <td>0.815126</td>\n",
              "    </tr>\n",
              "    <tr>\n",
              "      <th>1</th>\n",
              "      <td>0.001443</td>\n",
              "      <td>0.000834</td>\n",
              "      <td>DecisionTreeClassifier(max_depth=5, min_sample...</td>\n",
              "      <td>0.666667</td>\n",
              "      <td>0.798319</td>\n",
              "    </tr>\n",
              "    <tr>\n",
              "      <th>2</th>\n",
              "      <td>0.001347</td>\n",
              "      <td>0.000776</td>\n",
              "      <td>DecisionTreeClassifier(max_depth=5, min_sample...</td>\n",
              "      <td>0.766667</td>\n",
              "      <td>0.806723</td>\n",
              "    </tr>\n",
              "    <tr>\n",
              "      <th>3</th>\n",
              "      <td>0.001124</td>\n",
              "      <td>0.000672</td>\n",
              "      <td>DecisionTreeClassifier(max_depth=5, min_sample...</td>\n",
              "      <td>0.733333</td>\n",
              "      <td>0.798319</td>\n",
              "    </tr>\n",
              "    <tr>\n",
              "      <th>4</th>\n",
              "      <td>0.001156</td>\n",
              "      <td>0.000662</td>\n",
              "      <td>DecisionTreeClassifier(max_depth=5, min_sample...</td>\n",
              "      <td>0.724138</td>\n",
              "      <td>0.766667</td>\n",
              "    </tr>\n",
              "  </tbody>\n",
              "</table>\n",
              "</div>"
            ],
            "text/plain": [
              "   fit_time  score_time                                          estimator  \\\n",
              "0  0.002833    0.001290  DecisionTreeClassifier(max_depth=5, min_sample...   \n",
              "1  0.001443    0.000834  DecisionTreeClassifier(max_depth=5, min_sample...   \n",
              "2  0.001347    0.000776  DecisionTreeClassifier(max_depth=5, min_sample...   \n",
              "3  0.001124    0.000672  DecisionTreeClassifier(max_depth=5, min_sample...   \n",
              "4  0.001156    0.000662  DecisionTreeClassifier(max_depth=5, min_sample...   \n",
              "\n",
              "   test_score  train_score  \n",
              "0    0.700000     0.815126  \n",
              "1    0.666667     0.798319  \n",
              "2    0.766667     0.806723  \n",
              "3    0.733333     0.798319  \n",
              "4    0.724138     0.766667  "
            ]
          },
          "execution_count": 96,
          "metadata": {},
          "output_type": "execute_result"
        }
      ],
      "source": [
        "scores_df = pd.DataFrame.from_dict(scores)\n",
        "scores_df"
      ]
    },
    {
      "cell_type": "markdown",
      "metadata": {
        "id": "tV5u-p6YhDTH"
      },
      "source": [
        "# Задание 2"
      ]
    },
    {
      "cell_type": "markdown",
      "metadata": {
        "id": "4UcgwEWxOni_"
      },
      "source": [
        "Набор данных [отсюда](https://www.kaggle.com/datasets/anyasorc/valentine-dataset/code)"
      ]
    },
    {
      "cell_type": "code",
      "execution_count": 97,
      "metadata": {
        "id": "e9BTOxhfOk1F"
      },
      "outputs": [
        {
          "data": {
            "text/html": [
              "<div>\n",
              "<style scoped>\n",
              "    .dataframe tbody tr th:only-of-type {\n",
              "        vertical-align: middle;\n",
              "    }\n",
              "\n",
              "    .dataframe tbody tr th {\n",
              "        vertical-align: top;\n",
              "    }\n",
              "\n",
              "    .dataframe thead th {\n",
              "        text-align: right;\n",
              "    }\n",
              "</style>\n",
              "<table border=\"1\" class=\"dataframe\">\n",
              "  <thead>\n",
              "    <tr style=\"text-align: right;\">\n",
              "      <th></th>\n",
              "      <th>Name</th>\n",
              "      <th>Age</th>\n",
              "      <th>Gender</th>\n",
              "      <th>Income</th>\n",
              "      <th>Appearance_Score</th>\n",
              "      <th>Interests_Score</th>\n",
              "      <th>Confidence_Score</th>\n",
              "      <th>Educational_Status</th>\n",
              "      <th>Job_Type</th>\n",
              "      <th>Valentine_Date</th>\n",
              "    </tr>\n",
              "  </thead>\n",
              "  <tbody>\n",
              "    <tr>\n",
              "      <th>0</th>\n",
              "      <td>Leon Cruz</td>\n",
              "      <td>26</td>\n",
              "      <td>Male</td>\n",
              "      <td>77648</td>\n",
              "      <td>63.94</td>\n",
              "      <td>88.18</td>\n",
              "      <td>30.09</td>\n",
              "      <td>Bsc</td>\n",
              "      <td>Employed</td>\n",
              "      <td>1</td>\n",
              "    </tr>\n",
              "    <tr>\n",
              "      <th>1</th>\n",
              "      <td>Samuel Brown</td>\n",
              "      <td>23</td>\n",
              "      <td>Male</td>\n",
              "      <td>71617</td>\n",
              "      <td>2.50</td>\n",
              "      <td>49.98</td>\n",
              "      <td>76.45</td>\n",
              "      <td>Bsc</td>\n",
              "      <td>Employed</td>\n",
              "      <td>1</td>\n",
              "    </tr>\n",
              "    <tr>\n",
              "      <th>2</th>\n",
              "      <td>Lori Baker</td>\n",
              "      <td>34</td>\n",
              "      <td>Male</td>\n",
              "      <td>38616</td>\n",
              "      <td>27.50</td>\n",
              "      <td>33.90</td>\n",
              "      <td>33.76</td>\n",
              "      <td>PhD</td>\n",
              "      <td>Employed</td>\n",
              "      <td>1</td>\n",
              "    </tr>\n",
              "    <tr>\n",
              "      <th>3</th>\n",
              "      <td>Tina Fitzgerald</td>\n",
              "      <td>37</td>\n",
              "      <td>Male</td>\n",
              "      <td>79473</td>\n",
              "      <td>22.32</td>\n",
              "      <td>25.47</td>\n",
              "      <td>43.32</td>\n",
              "      <td>Master</td>\n",
              "      <td>Self Employed</td>\n",
              "      <td>1</td>\n",
              "    </tr>\n",
              "    <tr>\n",
              "      <th>4</th>\n",
              "      <td>Jason Simmons</td>\n",
              "      <td>38</td>\n",
              "      <td>Male</td>\n",
              "      <td>43510</td>\n",
              "      <td>73.65</td>\n",
              "      <td>43.63</td>\n",
              "      <td>32.44</td>\n",
              "      <td>Bsc</td>\n",
              "      <td>Employed</td>\n",
              "      <td>0</td>\n",
              "    </tr>\n",
              "  </tbody>\n",
              "</table>\n",
              "</div>"
            ],
            "text/plain": [
              "              Name  Age Gender  Income  Appearance_Score  Interests_Score  \\\n",
              "0        Leon Cruz   26   Male   77648             63.94            88.18   \n",
              "1     Samuel Brown   23   Male   71617              2.50            49.98   \n",
              "2       Lori Baker   34   Male   38616             27.50            33.90   \n",
              "3  Tina Fitzgerald   37   Male   79473             22.32            25.47   \n",
              "4    Jason Simmons   38   Male   43510             73.65            43.63   \n",
              "\n",
              "   Confidence_Score Educational_Status       Job_Type  Valentine_Date  \n",
              "0             30.09                Bsc       Employed               1  \n",
              "1             76.45                Bsc       Employed               1  \n",
              "2             33.76                PhD       Employed               1  \n",
              "3             43.32             Master  Self Employed               1  \n",
              "4             32.44                Bsc       Employed               0  "
            ]
          },
          "execution_count": 97,
          "metadata": {},
          "output_type": "execute_result"
        }
      ],
      "source": [
        "import pandas as pd\n",
        "\n",
        "df = pd.read_csv('https://raw.githubusercontent.com/AnnSenina/Other/main/valentine_dataset.csv')\n",
        "df.head()"
      ]
    },
    {
      "cell_type": "markdown",
      "metadata": {},
      "source": [
        "Я думаю здесь хорошо подойдет Логистическая регрессия для предсказывания \"Valentine_Date\", т.к. данный параметр бинарный"
      ]
    },
    {
      "cell_type": "markdown",
      "metadata": {},
      "source": [
        "Я предлагаю закодировать столбец \"Educational_Status\" и 'gender'. Думаю что превратив категориальную переменную в числовую мы достигнем лучий результат"
      ]
    },
    {
      "cell_type": "markdown",
      "metadata": {},
      "source": []
    },
    {
      "cell_type": "code",
      "execution_count": 99,
      "metadata": {},
      "outputs": [
        {
          "data": {
            "text/plain": [
              "array(['Bsc', 'PhD', 'Master', 'High School'], dtype=object)"
            ]
          },
          "execution_count": 99,
          "metadata": {},
          "output_type": "execute_result"
        }
      ],
      "source": [
        "df['Educational_Status'].unique()"
      ]
    },
    {
      "cell_type": "code",
      "execution_count": 101,
      "metadata": {},
      "outputs": [
        {
          "data": {
            "text/html": [
              "<div>\n",
              "<style scoped>\n",
              "    .dataframe tbody tr th:only-of-type {\n",
              "        vertical-align: middle;\n",
              "    }\n",
              "\n",
              "    .dataframe tbody tr th {\n",
              "        vertical-align: top;\n",
              "    }\n",
              "\n",
              "    .dataframe thead th {\n",
              "        text-align: right;\n",
              "    }\n",
              "</style>\n",
              "<table border=\"1\" class=\"dataframe\">\n",
              "  <thead>\n",
              "    <tr style=\"text-align: right;\">\n",
              "      <th></th>\n",
              "      <th>Name</th>\n",
              "      <th>Age</th>\n",
              "      <th>Gender</th>\n",
              "      <th>Income</th>\n",
              "      <th>Appearance_Score</th>\n",
              "      <th>Interests_Score</th>\n",
              "      <th>Confidence_Score</th>\n",
              "      <th>Educational_Status</th>\n",
              "      <th>Job_Type</th>\n",
              "      <th>Valentine_Date</th>\n",
              "    </tr>\n",
              "  </thead>\n",
              "  <tbody>\n",
              "    <tr>\n",
              "      <th>0</th>\n",
              "      <td>Leon Cruz</td>\n",
              "      <td>26</td>\n",
              "      <td>Male</td>\n",
              "      <td>77648</td>\n",
              "      <td>63.94</td>\n",
              "      <td>88.18</td>\n",
              "      <td>30.09</td>\n",
              "      <td>1</td>\n",
              "      <td>Employed</td>\n",
              "      <td>1</td>\n",
              "    </tr>\n",
              "    <tr>\n",
              "      <th>1</th>\n",
              "      <td>Samuel Brown</td>\n",
              "      <td>23</td>\n",
              "      <td>Male</td>\n",
              "      <td>71617</td>\n",
              "      <td>2.50</td>\n",
              "      <td>49.98</td>\n",
              "      <td>76.45</td>\n",
              "      <td>1</td>\n",
              "      <td>Employed</td>\n",
              "      <td>1</td>\n",
              "    </tr>\n",
              "    <tr>\n",
              "      <th>2</th>\n",
              "      <td>Lori Baker</td>\n",
              "      <td>34</td>\n",
              "      <td>Male</td>\n",
              "      <td>38616</td>\n",
              "      <td>27.50</td>\n",
              "      <td>33.90</td>\n",
              "      <td>33.76</td>\n",
              "      <td>3</td>\n",
              "      <td>Employed</td>\n",
              "      <td>1</td>\n",
              "    </tr>\n",
              "    <tr>\n",
              "      <th>3</th>\n",
              "      <td>Tina Fitzgerald</td>\n",
              "      <td>37</td>\n",
              "      <td>Male</td>\n",
              "      <td>79473</td>\n",
              "      <td>22.32</td>\n",
              "      <td>25.47</td>\n",
              "      <td>43.32</td>\n",
              "      <td>4</td>\n",
              "      <td>Self Employed</td>\n",
              "      <td>1</td>\n",
              "    </tr>\n",
              "    <tr>\n",
              "      <th>4</th>\n",
              "      <td>Jason Simmons</td>\n",
              "      <td>38</td>\n",
              "      <td>Male</td>\n",
              "      <td>43510</td>\n",
              "      <td>73.65</td>\n",
              "      <td>43.63</td>\n",
              "      <td>32.44</td>\n",
              "      <td>1</td>\n",
              "      <td>Employed</td>\n",
              "      <td>0</td>\n",
              "    </tr>\n",
              "    <tr>\n",
              "      <th>...</th>\n",
              "      <td>...</td>\n",
              "      <td>...</td>\n",
              "      <td>...</td>\n",
              "      <td>...</td>\n",
              "      <td>...</td>\n",
              "      <td>...</td>\n",
              "      <td>...</td>\n",
              "      <td>...</td>\n",
              "      <td>...</td>\n",
              "      <td>...</td>\n",
              "    </tr>\n",
              "    <tr>\n",
              "      <th>19995</th>\n",
              "      <td>Michael Vega</td>\n",
              "      <td>26</td>\n",
              "      <td>Female</td>\n",
              "      <td>36355</td>\n",
              "      <td>65.62</td>\n",
              "      <td>45.80</td>\n",
              "      <td>87.23</td>\n",
              "      <td>2</td>\n",
              "      <td>Employed</td>\n",
              "      <td>0</td>\n",
              "    </tr>\n",
              "    <tr>\n",
              "      <th>19996</th>\n",
              "      <td>Debra Horn</td>\n",
              "      <td>21</td>\n",
              "      <td>Female</td>\n",
              "      <td>55355</td>\n",
              "      <td>32.17</td>\n",
              "      <td>19.26</td>\n",
              "      <td>7.88</td>\n",
              "      <td>2</td>\n",
              "      <td>Employed</td>\n",
              "      <td>1</td>\n",
              "    </tr>\n",
              "    <tr>\n",
              "      <th>19997</th>\n",
              "      <td>Aaron Burgess</td>\n",
              "      <td>31</td>\n",
              "      <td>Male</td>\n",
              "      <td>31910</td>\n",
              "      <td>45.02</td>\n",
              "      <td>13.93</td>\n",
              "      <td>39.64</td>\n",
              "      <td>3</td>\n",
              "      <td>Self Employed</td>\n",
              "      <td>1</td>\n",
              "    </tr>\n",
              "    <tr>\n",
              "      <th>19998</th>\n",
              "      <td>Rebecca Morton</td>\n",
              "      <td>33</td>\n",
              "      <td>Female</td>\n",
              "      <td>22483</td>\n",
              "      <td>73.67</td>\n",
              "      <td>64.29</td>\n",
              "      <td>29.53</td>\n",
              "      <td>4</td>\n",
              "      <td>Self Employed</td>\n",
              "      <td>1</td>\n",
              "    </tr>\n",
              "    <tr>\n",
              "      <th>19999</th>\n",
              "      <td>Erik Curry</td>\n",
              "      <td>21</td>\n",
              "      <td>Male</td>\n",
              "      <td>51812</td>\n",
              "      <td>50.02</td>\n",
              "      <td>47.97</td>\n",
              "      <td>45.85</td>\n",
              "      <td>4</td>\n",
              "      <td>Self Employed</td>\n",
              "      <td>0</td>\n",
              "    </tr>\n",
              "  </tbody>\n",
              "</table>\n",
              "<p>20000 rows × 10 columns</p>\n",
              "</div>"
            ],
            "text/plain": [
              "                  Name  Age  Gender  Income  Appearance_Score  \\\n",
              "0            Leon Cruz   26    Male   77648             63.94   \n",
              "1         Samuel Brown   23    Male   71617              2.50   \n",
              "2           Lori Baker   34    Male   38616             27.50   \n",
              "3      Tina Fitzgerald   37    Male   79473             22.32   \n",
              "4        Jason Simmons   38    Male   43510             73.65   \n",
              "...                ...  ...     ...     ...               ...   \n",
              "19995     Michael Vega   26  Female   36355             65.62   \n",
              "19996       Debra Horn   21  Female   55355             32.17   \n",
              "19997    Aaron Burgess   31    Male   31910             45.02   \n",
              "19998   Rebecca Morton   33  Female   22483             73.67   \n",
              "19999       Erik Curry   21    Male   51812             50.02   \n",
              "\n",
              "       Interests_Score  Confidence_Score  Educational_Status       Job_Type  \\\n",
              "0                88.18             30.09                   1       Employed   \n",
              "1                49.98             76.45                   1       Employed   \n",
              "2                33.90             33.76                   3       Employed   \n",
              "3                25.47             43.32                   4  Self Employed   \n",
              "4                43.63             32.44                   1       Employed   \n",
              "...                ...               ...                 ...            ...   \n",
              "19995            45.80             87.23                   2       Employed   \n",
              "19996            19.26              7.88                   2       Employed   \n",
              "19997            13.93             39.64                   3  Self Employed   \n",
              "19998            64.29             29.53                   4  Self Employed   \n",
              "19999            47.97             45.85                   4  Self Employed   \n",
              "\n",
              "       Valentine_Date  \n",
              "0                   1  \n",
              "1                   1  \n",
              "2                   1  \n",
              "3                   1  \n",
              "4                   0  \n",
              "...               ...  \n",
              "19995               0  \n",
              "19996               1  \n",
              "19997               1  \n",
              "19998               1  \n",
              "19999               0  \n",
              "\n",
              "[20000 rows x 10 columns]"
            ]
          },
          "execution_count": 101,
          "metadata": {},
          "output_type": "execute_result"
        }
      ],
      "source": [
        "def incode(a):\n",
        "    if a == 'Bsc':\n",
        "        a = 1\n",
        "    if a == 'High School':\n",
        "        a = 2\n",
        "    if a == 'PhD':\n",
        "        a = 3\n",
        "    if a == 'Master':\n",
        "        a = 4\n",
        "        \n",
        "    return a      \n",
        "\n",
        "df['Educational_Status'] = df['Educational_Status'].map(incode)\n",
        "df"
      ]
    },
    {
      "cell_type": "code",
      "execution_count": 112,
      "metadata": {},
      "outputs": [],
      "source": [
        "def gender(x):\n",
        "    if x == 'Male':\n",
        "        x = 1\n",
        "    if x == 'Female':\n",
        "        x =0\n",
        "    return x\n",
        "df['Gender'] = df['Gender'].map(gender)"
      ]
    },
    {
      "cell_type": "code",
      "execution_count": 114,
      "metadata": {
        "id": "3iBoSpjpPxQU"
      },
      "outputs": [],
      "source": [
        "x = df[['Age', 'Gender', 'Income', 'Appearance_Score', 'Interests_Score', 'Confidence_Score', 'Educational_Status']]\n",
        "y = df['Valentine_Date']\n",
        "x_train, x_test, y_train, y_test = train_test_split(x, y, test_size = 0.3, random_state = 50)"
      ]
    },
    {
      "cell_type": "code",
      "execution_count": 115,
      "metadata": {
        "id": "fRTpkVpZPxOA"
      },
      "outputs": [],
      "source": [
        "log_reg = LogisticRegression(max_iter=3000)\n",
        "log_reg.fit(x_train,y_train)\n",
        "y_pred = log_reg.predict(x_test)"
      ]
    },
    {
      "cell_type": "code",
      "execution_count": 116,
      "metadata": {
        "id": "f7wvY0RyPxLH"
      },
      "outputs": [
        {
          "data": {
            "text/html": [
              "<div>\n",
              "<style scoped>\n",
              "    .dataframe tbody tr th:only-of-type {\n",
              "        vertical-align: middle;\n",
              "    }\n",
              "\n",
              "    .dataframe tbody tr th {\n",
              "        vertical-align: top;\n",
              "    }\n",
              "\n",
              "    .dataframe thead th {\n",
              "        text-align: right;\n",
              "    }\n",
              "</style>\n",
              "<table border=\"1\" class=\"dataframe\">\n",
              "  <thead>\n",
              "    <tr style=\"text-align: right;\">\n",
              "      <th></th>\n",
              "      <th>Actual</th>\n",
              "      <th>Predicted</th>\n",
              "    </tr>\n",
              "  </thead>\n",
              "  <tbody>\n",
              "    <tr>\n",
              "      <th>7808</th>\n",
              "      <td>0</td>\n",
              "      <td>0</td>\n",
              "    </tr>\n",
              "    <tr>\n",
              "      <th>4702</th>\n",
              "      <td>1</td>\n",
              "      <td>0</td>\n",
              "    </tr>\n",
              "    <tr>\n",
              "      <th>8693</th>\n",
              "      <td>0</td>\n",
              "      <td>0</td>\n",
              "    </tr>\n",
              "    <tr>\n",
              "      <th>9085</th>\n",
              "      <td>0</td>\n",
              "      <td>1</td>\n",
              "    </tr>\n",
              "    <tr>\n",
              "      <th>16689</th>\n",
              "      <td>1</td>\n",
              "      <td>0</td>\n",
              "    </tr>\n",
              "    <tr>\n",
              "      <th>14093</th>\n",
              "      <td>0</td>\n",
              "      <td>0</td>\n",
              "    </tr>\n",
              "    <tr>\n",
              "      <th>12799</th>\n",
              "      <td>0</td>\n",
              "      <td>0</td>\n",
              "    </tr>\n",
              "    <tr>\n",
              "      <th>9439</th>\n",
              "      <td>1</td>\n",
              "      <td>0</td>\n",
              "    </tr>\n",
              "    <tr>\n",
              "      <th>17783</th>\n",
              "      <td>0</td>\n",
              "      <td>0</td>\n",
              "    </tr>\n",
              "    <tr>\n",
              "      <th>10933</th>\n",
              "      <td>1</td>\n",
              "      <td>1</td>\n",
              "    </tr>\n",
              "    <tr>\n",
              "      <th>12733</th>\n",
              "      <td>1</td>\n",
              "      <td>0</td>\n",
              "    </tr>\n",
              "    <tr>\n",
              "      <th>4172</th>\n",
              "      <td>0</td>\n",
              "      <td>1</td>\n",
              "    </tr>\n",
              "    <tr>\n",
              "      <th>17425</th>\n",
              "      <td>0</td>\n",
              "      <td>1</td>\n",
              "    </tr>\n",
              "    <tr>\n",
              "      <th>12268</th>\n",
              "      <td>0</td>\n",
              "      <td>0</td>\n",
              "    </tr>\n",
              "    <tr>\n",
              "      <th>17431</th>\n",
              "      <td>0</td>\n",
              "      <td>0</td>\n",
              "    </tr>\n",
              "    <tr>\n",
              "      <th>6981</th>\n",
              "      <td>0</td>\n",
              "      <td>1</td>\n",
              "    </tr>\n",
              "    <tr>\n",
              "      <th>19632</th>\n",
              "      <td>1</td>\n",
              "      <td>1</td>\n",
              "    </tr>\n",
              "    <tr>\n",
              "      <th>17731</th>\n",
              "      <td>1</td>\n",
              "      <td>0</td>\n",
              "    </tr>\n",
              "    <tr>\n",
              "      <th>13182</th>\n",
              "      <td>1</td>\n",
              "      <td>0</td>\n",
              "    </tr>\n",
              "    <tr>\n",
              "      <th>17503</th>\n",
              "      <td>0</td>\n",
              "      <td>0</td>\n",
              "    </tr>\n",
              "  </tbody>\n",
              "</table>\n",
              "</div>"
            ],
            "text/plain": [
              "       Actual  Predicted\n",
              "7808        0          0\n",
              "4702        1          0\n",
              "8693        0          0\n",
              "9085        0          1\n",
              "16689       1          0\n",
              "14093       0          0\n",
              "12799       0          0\n",
              "9439        1          0\n",
              "17783       0          0\n",
              "10933       1          1\n",
              "12733       1          0\n",
              "4172        0          1\n",
              "17425       0          1\n",
              "12268       0          0\n",
              "17431       0          0\n",
              "6981        0          1\n",
              "19632       1          1\n",
              "17731       1          0\n",
              "13182       1          0\n",
              "17503       0          0"
            ]
          },
          "execution_count": 116,
          "metadata": {},
          "output_type": "execute_result"
        }
      ],
      "source": [
        "df_logreg = pd.DataFrame({'Actual': y_test, 'Predicted': y_pred})\n",
        "df_logreg.head(20)"
      ]
    },
    {
      "cell_type": "code",
      "execution_count": 117,
      "metadata": {
        "id": "M2R8CUC7PxGP"
      },
      "outputs": [
        {
          "name": "stdout",
          "output_type": "stream",
          "text": [
            "              precision    recall  f1-score   support\n",
            "\n",
            "           0       0.51      0.80      0.62      3023\n",
            "           1       0.51      0.22      0.30      2977\n",
            "\n",
            "    accuracy                           0.51      6000\n",
            "   macro avg       0.51      0.51      0.46      6000\n",
            "weighted avg       0.51      0.51      0.46      6000\n",
            "\n"
          ]
        }
      ],
      "source": [
        "print(classification_report(y_test, y_pred))"
      ]
    },
    {
      "cell_type": "markdown",
      "metadata": {},
      "source": [
        "Ожидания не оправдались..."
      ]
    },
    {
      "cell_type": "code",
      "execution_count": 123,
      "metadata": {},
      "outputs": [
        {
          "data": {
            "text/plain": [
              "{'fit_time': array([0.03144026, 0.02353811, 0.02081203, 0.02093387, 0.02024698]),\n",
              " 'score_time': array([0.0023067 , 0.00093102, 0.00060296, 0.00070405, 0.000736  ]),\n",
              " 'estimator': [DecisionTreeClassifier(max_depth=5, min_samples_leaf=5, min_samples_split=5),\n",
              "  DecisionTreeClassifier(max_depth=5, min_samples_leaf=5, min_samples_split=5),\n",
              "  DecisionTreeClassifier(max_depth=5, min_samples_leaf=5, min_samples_split=5),\n",
              "  DecisionTreeClassifier(max_depth=5, min_samples_leaf=5, min_samples_split=5),\n",
              "  DecisionTreeClassifier(max_depth=5, min_samples_leaf=5, min_samples_split=5)],\n",
              " 'test_score': array([0.50571429, 0.48428571, 0.5175    , 0.50464286, 0.52142857]),\n",
              " 'train_score': array([0.528125  , 0.53276786, 0.51419643, 0.53035714, 0.53642857])}"
            ]
          },
          "execution_count": 123,
          "metadata": {},
          "output_type": "execute_result"
        }
      ],
      "source": [
        "#Кросс-валидация\n",
        "scores = cross_validate(clf,\n",
        "                        x_train,\n",
        "                        y_train,\n",
        "                        scoring='accuracy',\n",
        "                        cv=5,\n",
        "                        return_estimator=True,\n",
        "                        return_train_score=True)\n",
        "\n",
        "scores"
      ]
    },
    {
      "cell_type": "code",
      "execution_count": 124,
      "metadata": {},
      "outputs": [
        {
          "data": {
            "text/html": [
              "<div>\n",
              "<style scoped>\n",
              "    .dataframe tbody tr th:only-of-type {\n",
              "        vertical-align: middle;\n",
              "    }\n",
              "\n",
              "    .dataframe tbody tr th {\n",
              "        vertical-align: top;\n",
              "    }\n",
              "\n",
              "    .dataframe thead th {\n",
              "        text-align: right;\n",
              "    }\n",
              "</style>\n",
              "<table border=\"1\" class=\"dataframe\">\n",
              "  <thead>\n",
              "    <tr style=\"text-align: right;\">\n",
              "      <th></th>\n",
              "      <th>fit_time</th>\n",
              "      <th>score_time</th>\n",
              "      <th>estimator</th>\n",
              "      <th>test_score</th>\n",
              "      <th>train_score</th>\n",
              "    </tr>\n",
              "  </thead>\n",
              "  <tbody>\n",
              "    <tr>\n",
              "      <th>0</th>\n",
              "      <td>0.031440</td>\n",
              "      <td>0.002307</td>\n",
              "      <td>DecisionTreeClassifier(max_depth=5, min_sample...</td>\n",
              "      <td>0.505714</td>\n",
              "      <td>0.528125</td>\n",
              "    </tr>\n",
              "    <tr>\n",
              "      <th>1</th>\n",
              "      <td>0.023538</td>\n",
              "      <td>0.000931</td>\n",
              "      <td>DecisionTreeClassifier(max_depth=5, min_sample...</td>\n",
              "      <td>0.484286</td>\n",
              "      <td>0.532768</td>\n",
              "    </tr>\n",
              "    <tr>\n",
              "      <th>2</th>\n",
              "      <td>0.020812</td>\n",
              "      <td>0.000603</td>\n",
              "      <td>DecisionTreeClassifier(max_depth=5, min_sample...</td>\n",
              "      <td>0.517500</td>\n",
              "      <td>0.514196</td>\n",
              "    </tr>\n",
              "    <tr>\n",
              "      <th>3</th>\n",
              "      <td>0.020934</td>\n",
              "      <td>0.000704</td>\n",
              "      <td>DecisionTreeClassifier(max_depth=5, min_sample...</td>\n",
              "      <td>0.504643</td>\n",
              "      <td>0.530357</td>\n",
              "    </tr>\n",
              "    <tr>\n",
              "      <th>4</th>\n",
              "      <td>0.020247</td>\n",
              "      <td>0.000736</td>\n",
              "      <td>DecisionTreeClassifier(max_depth=5, min_sample...</td>\n",
              "      <td>0.521429</td>\n",
              "      <td>0.536429</td>\n",
              "    </tr>\n",
              "  </tbody>\n",
              "</table>\n",
              "</div>"
            ],
            "text/plain": [
              "   fit_time  score_time                                          estimator  \\\n",
              "0  0.031440    0.002307  DecisionTreeClassifier(max_depth=5, min_sample...   \n",
              "1  0.023538    0.000931  DecisionTreeClassifier(max_depth=5, min_sample...   \n",
              "2  0.020812    0.000603  DecisionTreeClassifier(max_depth=5, min_sample...   \n",
              "3  0.020934    0.000704  DecisionTreeClassifier(max_depth=5, min_sample...   \n",
              "4  0.020247    0.000736  DecisionTreeClassifier(max_depth=5, min_sample...   \n",
              "\n",
              "   test_score  train_score  \n",
              "0    0.505714     0.528125  \n",
              "1    0.484286     0.532768  \n",
              "2    0.517500     0.514196  \n",
              "3    0.504643     0.530357  \n",
              "4    0.521429     0.536429  "
            ]
          },
          "execution_count": 124,
          "metadata": {},
          "output_type": "execute_result"
        }
      ],
      "source": [
        "scores_df = pd.DataFrame.from_dict(scores)\n",
        "scores_df"
      ]
    },
    {
      "cell_type": "markdown",
      "metadata": {},
      "source": [
        "Нужна другая модель \n"
      ]
    },
    {
      "cell_type": "markdown",
      "metadata": {},
      "source": [
        "### KNN"
      ]
    },
    {
      "cell_type": "code",
      "execution_count": 137,
      "metadata": {},
      "outputs": [],
      "source": [
        "x = df[['Age', 'Gender', 'Income', 'Appearance_Score', 'Interests_Score', 'Confidence_Score', 'Educational_Status']]\n",
        "y = df['Valentine_Date']\n",
        "x_train, x_test, y_train, y_test = train_test_split(x, y, test_size = 0.3, random_state = 50)"
      ]
    },
    {
      "cell_type": "code",
      "execution_count": 138,
      "metadata": {},
      "outputs": [
        {
          "data": {
            "text/plain": [
              "array([1, 1, 1, ..., 0, 1, 0])"
            ]
          },
          "execution_count": 138,
          "metadata": {},
          "output_type": "execute_result"
        }
      ],
      "source": [
        "knn = KNeighborsClassifier(n_neighbors=3) # пока оставляем параметры, скопированные из интернетика\n",
        "\n",
        "knn.fit(x_train, y_train)\n",
        "\n",
        "y_pred = knn.predict(x_test)\n",
        "y_pred"
      ]
    },
    {
      "cell_type": "code",
      "execution_count": 139,
      "metadata": {},
      "outputs": [
        {
          "data": {
            "text/plain": [
              "0.5065"
            ]
          },
          "execution_count": 139,
          "metadata": {},
          "output_type": "execute_result"
        }
      ],
      "source": [
        "accuracy_score(y_test, y_pred)"
      ]
    },
    {
      "cell_type": "code",
      "execution_count": 140,
      "metadata": {},
      "outputs": [
        {
          "name": "stdout",
          "output_type": "stream",
          "text": [
            "              precision    recall  f1-score   support\n",
            "\n",
            "           0       0.51      0.53      0.52      3023\n",
            "           1       0.50      0.49      0.49      2977\n",
            "\n",
            "    accuracy                           0.51      6000\n",
            "   macro avg       0.51      0.51      0.51      6000\n",
            "weighted avg       0.51      0.51      0.51      6000\n",
            "\n"
          ]
        }
      ],
      "source": [
        "print(classification_report(y_test, y_pred))"
      ]
    },
    {
      "cell_type": "code",
      "execution_count": 141,
      "metadata": {},
      "outputs": [
        {
          "name": "stdout",
          "output_type": "stream",
          "text": [
            "0.5035000000000001 {'n_neighbors': 16, 'weights': 'uniform'}\n"
          ]
        }
      ],
      "source": [
        "# подберем гиперпараметры\n",
        "parameters = {'n_neighbors':range(2,20), 'weights' : ['uniform', 'distance']}\n",
        "grid = GridSearchCV(KNeighborsClassifier(), parameters)\n",
        "grid.fit(x, y)\n",
        "tree_model = grid.best_estimator_\n",
        "print(grid.best_score_, grid.best_params_)"
      ]
    },
    {
      "cell_type": "markdown",
      "metadata": {},
      "source": [
        "Я попробовал убрать некторые признаки, но без них модель работает еще хуже("
      ]
    }
  ],
  "metadata": {
    "colab": {
      "provenance": []
    },
    "kernelspec": {
      "display_name": "Python 3",
      "name": "python3"
    },
    "language_info": {
      "codemirror_mode": {
        "name": "ipython",
        "version": 3
      },
      "file_extension": ".py",
      "mimetype": "text/x-python",
      "name": "python",
      "nbconvert_exporter": "python",
      "pygments_lexer": "ipython3",
      "version": "3.12.1"
    }
  },
  "nbformat": 4,
  "nbformat_minor": 0
}

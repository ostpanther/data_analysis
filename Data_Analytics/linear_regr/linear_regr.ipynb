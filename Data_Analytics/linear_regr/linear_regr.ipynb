{
 "cells": [
  {
   "cell_type": "markdown",
   "metadata": {},
   "source": [
    "Задание\n",
    "\n",
    "Загрузите набор данных sandler.csv - набор данных для предсказания дохода от показа фильмов.\n",
    "\n",
    "Столбцы Date - дата премьеры, Title - название, Genre - жанр, Studio - студия Theaters - число кинотеатров, Opening Gross - доход от премьеры, Opening Theaters - число кинотеатров для премьеры, Gross - общий доход\n",
    "\n",
    "В качестве х возьмите: Theaters / Opening / Opening Theaters\n",
    "\n",
    "В качестве y - Gross\n",
    "\n",
    "Постройте линейную регрессию для этих данных, постарайтесь получить высокий R squared и низкие ошибки (посоревнуемся, кто сделает правильно и получит наибольший возможный R squared))\n",
    "\n"
   ]
  },
  {
   "cell_type": "code",
   "execution_count": 1,
   "metadata": {},
   "outputs": [],
   "source": [
    "# библиотеки\n",
    "import pandas as pd\n",
    "import seaborn as sns\n",
    "import matplotlib.pyplot as plt\n",
    "import scipy.stats\n",
    "from sklearn.model_selection import train_test_split\n",
    "from sklearn.linear_model import LinearRegression\n",
    "from sklearn import metrics\n",
    "import numpy as np\n"
   ]
  },
  {
   "cell_type": "code",
   "execution_count": 2,
   "metadata": {},
   "outputs": [
    {
     "data": {
      "text/html": [
       "<div>\n",
       "<style scoped>\n",
       "    .dataframe tbody tr th:only-of-type {\n",
       "        vertical-align: middle;\n",
       "    }\n",
       "\n",
       "    .dataframe tbody tr th {\n",
       "        vertical-align: top;\n",
       "    }\n",
       "\n",
       "    .dataframe thead th {\n",
       "        text-align: right;\n",
       "    }\n",
       "</style>\n",
       "<table border=\"1\" class=\"dataframe\">\n",
       "  <thead>\n",
       "    <tr style=\"text-align: right;\">\n",
       "      <th></th>\n",
       "      <th>Date</th>\n",
       "      <th>Title</th>\n",
       "      <th>Genre</th>\n",
       "      <th>Studio</th>\n",
       "      <th>Theaters</th>\n",
       "      <th>Opening Gross</th>\n",
       "      <th>Opening Theaters</th>\n",
       "      <th>Gross</th>\n",
       "    </tr>\n",
       "  </thead>\n",
       "  <tbody>\n",
       "    <tr>\n",
       "      <th>0</th>\n",
       "      <td>13.03.1992</td>\n",
       "      <td>Shakes the Clown</td>\n",
       "      <td>Comedy</td>\n",
       "      <td>IRS</td>\n",
       "      <td>9</td>\n",
       "      <td>$35 589</td>\n",
       "      <td>9</td>\n",
       "      <td>$115 103</td>\n",
       "    </tr>\n",
       "    <tr>\n",
       "      <th>1</th>\n",
       "      <td>23.07.1993</td>\n",
       "      <td>Coneheads</td>\n",
       "      <td>Comedy</td>\n",
       "      <td>Par.</td>\n",
       "      <td>1 978</td>\n",
       "      <td>$7 100 501</td>\n",
       "      <td>1 978</td>\n",
       "      <td>$21 274 717</td>\n",
       "    </tr>\n",
       "    <tr>\n",
       "      <th>2</th>\n",
       "      <td>05.08.1994</td>\n",
       "      <td>Airheads</td>\n",
       "      <td>Comedy</td>\n",
       "      <td>Fox</td>\n",
       "      <td>1 229</td>\n",
       "      <td>$1 911 739</td>\n",
       "      <td>1 228</td>\n",
       "      <td>$5 751 882</td>\n",
       "    </tr>\n",
       "    <tr>\n",
       "      <th>3</th>\n",
       "      <td>21.12.1994</td>\n",
       "      <td>Mixed Nuts</td>\n",
       "      <td>Comedy</td>\n",
       "      <td>Sony</td>\n",
       "      <td>1 318</td>\n",
       "      <td>$2 307 850</td>\n",
       "      <td>1 318</td>\n",
       "      <td>$6 821 850</td>\n",
       "    </tr>\n",
       "    <tr>\n",
       "      <th>4</th>\n",
       "      <td>10.02.1995</td>\n",
       "      <td>Billy Madison</td>\n",
       "      <td>Comedy</td>\n",
       "      <td>Uni.</td>\n",
       "      <td>1 887</td>\n",
       "      <td>$6 639 080</td>\n",
       "      <td>1 834</td>\n",
       "      <td>$25 588 734</td>\n",
       "    </tr>\n",
       "  </tbody>\n",
       "</table>\n",
       "</div>"
      ],
      "text/plain": [
       "         Date             Title   Genre Studio Theaters Opening Gross  \\\n",
       "0  13.03.1992  Shakes the Clown  Comedy    IRS        9      $35 589    \n",
       "1  23.07.1993         Coneheads  Comedy   Par.    1 978   $7 100 501    \n",
       "2  05.08.1994          Airheads  Comedy    Fox    1 229   $1 911 739    \n",
       "3  21.12.1994        Mixed Nuts  Comedy   Sony    1 318   $2 307 850    \n",
       "4  10.02.1995     Billy Madison  Comedy   Uni.    1 887   $6 639 080    \n",
       "\n",
       "  Opening Theaters         Gross  \n",
       "0                9     $115 103   \n",
       "1            1 978  $21 274 717   \n",
       "2            1 228   $5 751 882   \n",
       "3            1 318   $6 821 850   \n",
       "4            1 834  $25 588 734   "
      ]
     },
     "execution_count": 2,
     "metadata": {},
     "output_type": "execute_result"
    }
   ],
   "source": [
    "df = pd.read_csv('https://raw.githubusercontent.com/AnnSenina/Other/main/sandler.csv')\n",
    "df.head()"
   ]
  },
  {
   "cell_type": "code",
   "execution_count": 3,
   "metadata": {},
   "outputs": [
    {
     "data": {
      "text/plain": [
       "(31, 8)"
      ]
     },
     "execution_count": 3,
     "metadata": {},
     "output_type": "execute_result"
    }
   ],
   "source": [
    "df.shape"
   ]
  },
  {
   "cell_type": "code",
   "execution_count": 117,
   "metadata": {},
   "outputs": [],
   "source": [
    "# сделайте предобработку - она уже прописана\n",
    "df['Opening Theaters']=df['Opening Theaters'].apply(lambda x: x.replace(' ','',10).replace(\"$\",'',10))\n",
    "df['Theaters']=df['Theaters'].apply(lambda x: x.replace(' ','',10).replace(\"$\",'',10))\n",
    "df['Gross']=df['Gross'].apply(lambda x: x.replace(' ','',10).replace(\"$\",'',10))\n",
    "df['Opening Gross']=df['Opening Gross'].apply(lambda x: x.replace(' ','',10).replace(\"$\",'',10))\n",
    "df.drop(['Date','Title', 'Genre', 'Studio'], axis=1, inplace=True)\n",
    "df['Opening Theaters'] = pd.to_numeric( df['Opening Theaters'])\n",
    "df['Theaters'] = pd.to_numeric( df['Theaters'])\n",
    "df['Gross'] = pd.to_numeric( df['Gross'])\n",
    "df['Opening Gross'] = pd.to_numeric( df['Opening Gross'])\n",
    "x, y = df.drop([\"Gross\"], axis = 1), df['Gross']\n",
    "# обучите модель на x, y\n",
    "# сделайте предсказание"
   ]
  },
  {
   "cell_type": "code",
   "execution_count": 118,
   "metadata": {},
   "outputs": [
    {
     "data": {
      "text/plain": [
       "0.8166224250384043"
      ]
     },
     "execution_count": 118,
     "metadata": {},
     "output_type": "execute_result"
    }
   ],
   "source": [
    "df['Theaters'].corr(df['Gross'])\n",
    "# растет кол-во кинотеатров растет и выручка"
   ]
  },
  {
   "cell_type": "code",
   "execution_count": 119,
   "metadata": {},
   "outputs": [
    {
     "data": {
      "image/png": "[encoded data removed]",
      "text/plain": [
       "<Figure size 600x400 with 2 Axes>"
      ]
     },
     "metadata": {},
     "output_type": "display_data"
    }
   ],
   "source": [
    "plt.figure(figsize = (6,4))\n",
    "sns.heatmap(df[['Theaters', 'Opening Gross', 'Opening Theaters','Gross']].corr(method='spearman'), annot = True, cmap='RdYlGn', center=0);"
   ]
  },
  {
   "cell_type": "code",
   "execution_count": 120,
   "metadata": {},
   "outputs": [],
   "source": [
    "x = df[['Theaters', 'Opening Gross', 'Opening Theaters']] # добавили показатели\n",
    "y = df['Gross']\n",
    "x_train, x_test, y_train, y_test = train_test_split(x, y, test_size = 0.3, random_state = 50)\n",
    "\n",
    "regr = LinearRegression()\n",
    "result = regr.fit(x_train, y_train)\n",
    "\n",
    "y_pred = regr.predict(x_test)"
   ]
  },
  {
   "cell_type": "code",
   "execution_count": 121,
   "metadata": {},
   "outputs": [
    {
     "name": "stdout",
     "output_type": "stream",
     "text": [
      "Training data r-squared: 0.9324834430968852\n",
      "Test data r-squared 0.9256346550623216\n",
      "Intercept -31317.306060373783\n",
      "\n",
      "Mean Absolute Error: 10772823.274504079\n",
      "Mean Square Error: 215896367776861.94\n",
      "Root Mean Square Error: 14693412.393888015\n"
     ]
    }
   ],
   "source": [
    "print('Training data r-squared:', regr.score(x_train, y_train)) # коэффициент детерминации(точности)\n",
    "print('Test data r-squared', regr.score(x_test,y_test))\n",
    "print('Intercept', regr.intercept_)\n",
    "\n",
    "meanAbErr = metrics.mean_absolute_error(y_test, y_pred) # средняя разница по модулю между реальными и предсказанными значениями\n",
    "meanSqErr = metrics.mean_squared_error(y_test, y_pred) # средний квадрат разницы между реальными и предсказанными значениями\n",
    "rootMeanSqErr = np.sqrt(metrics.mean_squared_error(y_test, y_pred)) # корень из предыдущей ошибки\n",
    "print()\n",
    "print('Mean Absolute Error:', meanAbErr)\n",
    "print('Mean Square Error:', meanSqErr)\n",
    "print('Root Mean Square Error:', rootMeanSqErr)\n"
   ]
  },
  {
   "cell_type": "markdown",
   "metadata": {},
   "source": [
    "Страдает показатель intercept и ошибка ненормальная.\n",
    "\n",
    "Требуется преобразовать данные"
   ]
  },
  {
   "cell_type": "markdown",
   "metadata": {},
   "source": [
    "<h2>попробуем преобразовать данные</h2>"
   ]
  },
  {
   "cell_type": "code",
   "execution_count": 84,
   "metadata": {},
   "outputs": [],
   "source": [
    "# возьмем логорифм от выручек. Так у нас гросс будет расти не в 150раз(образно), а в 2-3\n",
    "\n",
    "y_log = np.log(df[['Opening Gross', 'Gross']])"
   ]
  },
  {
   "cell_type": "code",
   "execution_count": 85,
   "metadata": {},
   "outputs": [
    {
     "data": {
      "image/png": "[encoded data removed]",
      "text/plain": [
       "<Figure size 651.875x500 with 1 Axes>"
      ]
     },
     "metadata": {},
     "output_type": "display_data"
    }
   ],
   "source": [
    "sns.displot(y_log)\n",
    "plt.show()"
   ]
  },
  {
   "cell_type": "markdown",
   "metadata": {},
   "source": [
    "посмотрим что изменилось в поведении модели"
   ]
  },
  {
   "cell_type": "code",
   "execution_count": 124,
   "metadata": {},
   "outputs": [],
   "source": [
    "df2 = df.copy()\n",
    "\n",
    "df2['Gross'] = np.log(df2[['Gross']])\n",
    "df2['Opening Gross'] = np.log(df2['Opening Gross'])\n",
    "\n",
    "features = df2[['Theaters','Opening Gross','Opening Theaters']]\n",
    "gross = df2['Gross']\n",
    "\n",
    "x_train, x_test, y_train, y_test = train_test_split(features, gross, test_size = 0.3, random_state = 100)\n",
    "\n",
    "regr = LinearRegression()\n",
    "regr.fit(x_train, y_train)\n",
    "\n",
    "y_pred = regr.predict(x_test)"
   ]
  },
  {
   "cell_type": "code",
   "execution_count": 127,
   "metadata": {},
   "outputs": [
    {
     "name": "stdout",
     "output_type": "stream",
     "text": [
      "Training data r-squared: 0.9890734458445624\n",
      "Test data r-squared 0.9383963505811331\n",
      "Intercept 2.195458710490561\n",
      "\n",
      "Mean Absolute Error: 0.13950558711765132\n",
      "Mean Square Error: 0.029601201011048062\n",
      "Root Mean Square Error: 0.17204999567290916\n"
     ]
    }
   ],
   "source": [
    "print('Training data r-squared:', regr.score(x_train, y_train)) # коэффициент детерминации(точности)\n",
    "print('Test data r-squared', regr.score(x_test,y_test))\n",
    "print('Intercept', regr.intercept_)\n",
    "\n",
    "meanAbErr = metrics.mean_absolute_error(y_test, y_pred) # средняя разница по модулю между реальными и предсказанными значениями\n",
    "meanSqErr = metrics.mean_squared_error(y_test, y_pred) # средний квадрат разницы между реальными и предсказанными значениями\n",
    "rootMeanSqErr = np.sqrt(metrics.mean_squared_error(y_test, y_pred)) # корень из предыдущей ошибки\n",
    "print()\n",
    "print('Mean Absolute Error:', meanAbErr)\n",
    "print('Mean Square Error:', meanSqErr)\n",
    "print('Root Mean Square Error:', rootMeanSqErr)"
   ]
  },
  {
   "cell_type": "markdown",
   "metadata": {},
   "source": [
    "Мы улучшили показатели predict и train!  \n",
    "А еще MSE стала меньше\n",
    "\n"
   ]
  }
 ],
 "metadata": {
  "kernelspec": {
   "display_name": "Python 3",
   "language": "python",
   "name": "python3"
  },
  "language_info": {
   "codemirror_mode": {
    "name": "ipython",
    "version": 3
   },
   "file_extension": ".py",
   "mimetype": "text/x-python",
   "name": "python",
   "nbconvert_exporter": "python",
   "pygments_lexer": "ipython3",
   "version": "3.12.1"
  }
 },
 "nbformat": 4,
 "nbformat_minor": 2
}

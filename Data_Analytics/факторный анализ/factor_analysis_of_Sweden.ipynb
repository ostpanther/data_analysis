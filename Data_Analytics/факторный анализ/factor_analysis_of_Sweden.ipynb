{
 "cells": [
  {
   "cell_type": "markdown",
   "metadata": {},
   "source": [
    "О данных: https://stat.ethz.ch/R-manual/R-devel/library/datasets/html/swiss.html\n",
    "\n"
   ]
  },
  {
   "cell_type": "markdown",
   "metadata": {},
   "source": [
    "небольшое пояснение:\n",
    "Что такое факторный анализ?\n",
    "\n",
    "В современной статистике этот метод анализа данных используется для выявления скрытых факторов, которые оказывают влияние на наблюдаемые переменные. Основная идея факторного анализа заключается в том, что множество переменных можно свести к меньшему числу факторов, которые объясняют основные тенденции и связи между этими переменными.\n",
    "\n",
    "Одной из важнейших задач, которую можно решить с помощью факторного анализа, является выявление основных факторов, которые оказывают влияние на изменение показателей в рамках определенной выборки. Кроме того, факторный анализ может использоваться для определения взаимосвязей между различными переменным\n",
    "\n",
    "Метод главных компонент (PCA) — это метод факторного анализа, который используется для выделения наиболее важных факторов из большого количества переменных. Он основывается на поиске линейных комбинаций переменных, которые объясняют наибольшую долю изменчивости данных. Эти линейные комбинации называются главными компонентами.\n",
    "\n",
    "Метод наименьших квадратов (PLS — Partial Least Squares):\n",
    "Этот метод широко используется для решения задач множественной регрессии в большой размерности данных. Он позволяет свести большой набор измерений к более небольшому количеству значимых компонент, которые лучше всего описывают зависимости между ними.\n",
    "\n",
    "Метод максимального правдоподобия (MLE — Maximum Likelihood Estimation):\n",
    "Этот метод направлен на оценку параметров статистической модели на основе имеющихся данных. Он позволяет определить значение параметров, наиболее вероятно соответствующее наблюдаемым данным.\n"
   ]
  },
  {
   "cell_type": "code",
   "execution_count": 2,
   "metadata": {},
   "outputs": [],
   "source": [
    "import pandas as pd\n",
    "import numpy as np\n",
    "import matplotlib.pyplot as plt\n",
    "import seaborn as sns\n",
    "from scipy import stats\n",
    "import math\n",
    "from sklearn import preprocessing\n",
    "from sklearn.decomposition import PCA\n",
    "from sklearn.decomposition import FactorAnalysis\n",
    "from factor_analyzer import FactorAnalyzer"
   ]
  },
  {
   "cell_type": "code",
   "execution_count": 4,
   "metadata": {},
   "outputs": [
    {
     "data": {
      "text/html": [
       "<div>\n",
       "<style scoped>\n",
       "    .dataframe tbody tr th:only-of-type {\n",
       "        vertical-align: middle;\n",
       "    }\n",
       "\n",
       "    .dataframe tbody tr th {\n",
       "        vertical-align: top;\n",
       "    }\n",
       "\n",
       "    .dataframe thead th {\n",
       "        text-align: right;\n",
       "    }\n",
       "</style>\n",
       "<table border=\"1\" class=\"dataframe\">\n",
       "  <thead>\n",
       "    <tr style=\"text-align: right;\">\n",
       "      <th></th>\n",
       "      <th>Unnamed: 0</th>\n",
       "      <th>Fertility</th>\n",
       "      <th>Agriculture</th>\n",
       "      <th>Examination</th>\n",
       "      <th>Education</th>\n",
       "      <th>Catholic</th>\n",
       "      <th>Infant_Mortality</th>\n",
       "    </tr>\n",
       "  </thead>\n",
       "  <tbody>\n",
       "    <tr>\n",
       "      <th>0</th>\n",
       "      <td>Courtelary</td>\n",
       "      <td>80.2</td>\n",
       "      <td>17.0</td>\n",
       "      <td>15</td>\n",
       "      <td>12</td>\n",
       "      <td>9.96</td>\n",
       "      <td>22.2</td>\n",
       "    </tr>\n",
       "    <tr>\n",
       "      <th>1</th>\n",
       "      <td>Delemont</td>\n",
       "      <td>83.1</td>\n",
       "      <td>45.1</td>\n",
       "      <td>6</td>\n",
       "      <td>9</td>\n",
       "      <td>84.84</td>\n",
       "      <td>22.2</td>\n",
       "    </tr>\n",
       "    <tr>\n",
       "      <th>2</th>\n",
       "      <td>Franches-Mnt</td>\n",
       "      <td>92.5</td>\n",
       "      <td>39.7</td>\n",
       "      <td>5</td>\n",
       "      <td>5</td>\n",
       "      <td>93.40</td>\n",
       "      <td>20.2</td>\n",
       "    </tr>\n",
       "    <tr>\n",
       "      <th>3</th>\n",
       "      <td>Moutier</td>\n",
       "      <td>85.8</td>\n",
       "      <td>36.5</td>\n",
       "      <td>12</td>\n",
       "      <td>7</td>\n",
       "      <td>33.77</td>\n",
       "      <td>20.3</td>\n",
       "    </tr>\n",
       "    <tr>\n",
       "      <th>4</th>\n",
       "      <td>Neuveville</td>\n",
       "      <td>76.9</td>\n",
       "      <td>43.5</td>\n",
       "      <td>17</td>\n",
       "      <td>15</td>\n",
       "      <td>5.16</td>\n",
       "      <td>20.6</td>\n",
       "    </tr>\n",
       "  </tbody>\n",
       "</table>\n",
       "</div>"
      ],
      "text/plain": [
       "     Unnamed: 0  Fertility  Agriculture  Examination  Education  Catholic  \\\n",
       "0    Courtelary       80.2         17.0           15         12      9.96   \n",
       "1      Delemont       83.1         45.1            6          9     84.84   \n",
       "2  Franches-Mnt       92.5         39.7            5          5     93.40   \n",
       "3       Moutier       85.8         36.5           12          7     33.77   \n",
       "4    Neuveville       76.9         43.5           17         15      5.16   \n",
       "\n",
       "   Infant_Mortality  \n",
       "0              22.2  \n",
       "1              22.2  \n",
       "2              20.2  \n",
       "3              20.3  \n",
       "4              20.6  "
      ]
     },
     "execution_count": 4,
     "metadata": {},
     "output_type": "execute_result"
    }
   ],
   "source": [
    "df = pd.read_csv('https://raw.githubusercontent.com/AnnSenina/Other/main/Swiss%20Fertility.csv', sep=';', decimal=',')\n",
    "df.head()"
   ]
  },
  {
   "cell_type": "code",
   "execution_count": 8,
   "metadata": {},
   "outputs": [],
   "source": [
    "#ренейминг\n",
    "df.rename(columns={'Unnamed: 0': 'Cantons'}, inplace=True)"
   ]
  },
  {
   "cell_type": "code",
   "execution_count": 16,
   "metadata": {},
   "outputs": [
    {
     "data": {
      "text/html": [
       "<div>\n",
       "<style scoped>\n",
       "    .dataframe tbody tr th:only-of-type {\n",
       "        vertical-align: middle;\n",
       "    }\n",
       "\n",
       "    .dataframe tbody tr th {\n",
       "        vertical-align: top;\n",
       "    }\n",
       "\n",
       "    .dataframe thead th {\n",
       "        text-align: right;\n",
       "    }\n",
       "</style>\n",
       "<table border=\"1\" class=\"dataframe\">\n",
       "  <thead>\n",
       "    <tr style=\"text-align: right;\">\n",
       "      <th></th>\n",
       "      <th>Fertility</th>\n",
       "      <th>Agriculture</th>\n",
       "      <th>Examination</th>\n",
       "      <th>Education</th>\n",
       "      <th>Catholic</th>\n",
       "      <th>Infant_Mortality</th>\n",
       "    </tr>\n",
       "  </thead>\n",
       "  <tbody>\n",
       "    <tr>\n",
       "      <th>Fertility</th>\n",
       "      <td>1.000000</td>\n",
       "      <td>0.353079</td>\n",
       "      <td>-0.645883</td>\n",
       "      <td>-0.663789</td>\n",
       "      <td>0.463685</td>\n",
       "      <td>0.416556</td>\n",
       "    </tr>\n",
       "    <tr>\n",
       "      <th>Agriculture</th>\n",
       "      <td>0.353079</td>\n",
       "      <td>1.000000</td>\n",
       "      <td>-0.686542</td>\n",
       "      <td>-0.639523</td>\n",
       "      <td>0.401095</td>\n",
       "      <td>-0.060859</td>\n",
       "    </tr>\n",
       "    <tr>\n",
       "      <th>Examination</th>\n",
       "      <td>-0.645883</td>\n",
       "      <td>-0.686542</td>\n",
       "      <td>1.000000</td>\n",
       "      <td>0.698415</td>\n",
       "      <td>-0.572742</td>\n",
       "      <td>-0.114022</td>\n",
       "    </tr>\n",
       "    <tr>\n",
       "      <th>Education</th>\n",
       "      <td>-0.663789</td>\n",
       "      <td>-0.639523</td>\n",
       "      <td>0.698415</td>\n",
       "      <td>1.000000</td>\n",
       "      <td>-0.153859</td>\n",
       "      <td>-0.099322</td>\n",
       "    </tr>\n",
       "    <tr>\n",
       "      <th>Catholic</th>\n",
       "      <td>0.463685</td>\n",
       "      <td>0.401095</td>\n",
       "      <td>-0.572742</td>\n",
       "      <td>-0.153859</td>\n",
       "      <td>1.000000</td>\n",
       "      <td>0.175496</td>\n",
       "    </tr>\n",
       "    <tr>\n",
       "      <th>Infant_Mortality</th>\n",
       "      <td>0.416556</td>\n",
       "      <td>-0.060859</td>\n",
       "      <td>-0.114022</td>\n",
       "      <td>-0.099322</td>\n",
       "      <td>0.175496</td>\n",
       "      <td>1.000000</td>\n",
       "    </tr>\n",
       "  </tbody>\n",
       "</table>\n",
       "</div>"
      ],
      "text/plain": [
       "                  Fertility  Agriculture  Examination  Education  Catholic  \\\n",
       "Fertility          1.000000     0.353079    -0.645883  -0.663789  0.463685   \n",
       "Agriculture        0.353079     1.000000    -0.686542  -0.639523  0.401095   \n",
       "Examination       -0.645883    -0.686542     1.000000   0.698415 -0.572742   \n",
       "Education         -0.663789    -0.639523     0.698415   1.000000 -0.153859   \n",
       "Catholic           0.463685     0.401095    -0.572742  -0.153859  1.000000   \n",
       "Infant_Mortality   0.416556    -0.060859    -0.114022  -0.099322  0.175496   \n",
       "\n",
       "                  Infant_Mortality  \n",
       "Fertility                 0.416556  \n",
       "Agriculture              -0.060859  \n",
       "Examination              -0.114022  \n",
       "Education                -0.099322  \n",
       "Catholic                  0.175496  \n",
       "Infant_Mortality          1.000000  "
      ]
     },
     "execution_count": 16,
     "metadata": {},
     "output_type": "execute_result"
    }
   ],
   "source": [
    "df.iloc[:, 1:].corr()"
   ]
  },
  {
   "cell_type": "markdown",
   "metadata": {},
   "source": [
    "## 1"
   ]
  },
  {
   "cell_type": "code",
   "execution_count": 27,
   "metadata": {},
   "outputs": [
    {
     "data": {
      "text/plain": [
       "array([[ 0.8138349 , -1.49809105, -0.18870461,  0.10736079, -0.75581046,\n",
       "         0.78341571],\n",
       "       [ 1.04849895, -0.2474407 , -1.32901961, -0.20801153,  1.05907526,\n",
       "         0.78341571],\n",
       "       [ 1.80913415, -0.4877792 , -1.45572128, -0.62850797,  1.26654617,\n",
       "         0.08934336],\n",
       "       [ 1.26697928, -0.63020202, -0.56880961, -0.41825975, -0.1787214 ,\n",
       "         0.12404697],\n",
       "       [ 0.54680339, -0.31865211,  0.06469872,  0.42273312, -0.87214929,\n",
       "         0.22815783]])"
      ]
     },
     "execution_count": 27,
     "metadata": {},
     "output_type": "execute_result"
    }
   ],
   "source": [
    "#стандартизация\n",
    "def scale_features(df):\n",
    "    scaled = preprocessing.StandardScaler().fit_transform(df)\n",
    "    scaled = pd.DataFrame(scaled, columns=df.columns)\n",
    "    return scaled\n",
    "\n",
    "df_scaled = preprocessing.scale(df.iloc[:,1:])\n",
    "\n",
    "df_scaled[:5]"
   ]
  },
  {
   "cell_type": "code",
   "execution_count": 23,
   "metadata": {},
   "outputs": [
    {
     "data": {
      "text/plain": [
       "array([0.53329283, 0.19805137, 0.1412683 ])"
      ]
     },
     "execution_count": 23,
     "metadata": {},
     "output_type": "execute_result"
    }
   ],
   "source": [
    "#PCA\n",
    "pca = PCA(n_components=2)\n",
    "pca.fit(df_scaled)\n",
    "pca.explained_variance_ratio_"
   ]
  },
  {
   "cell_type": "code",
   "execution_count": 24,
   "metadata": {},
   "outputs": [
    {
     "data": {
      "text/plain": [
       "array([[ 0.36355156,  1.39942043, -0.8597075 ],\n",
       "       [-1.6341755 ,  1.02604695,  0.5478672 ],\n",
       "       [-2.1042002 ,  0.7460236 ,  0.47268306],\n",
       "       [-0.74760789,  0.59589165, -0.57915951],\n",
       "       [ 0.38152761,  0.44884479, -0.62826125],\n",
       "       [-1.36921903,  2.29187838,  0.35052739],\n",
       "       [-1.72432731,  1.1277524 ,  0.43217275],\n",
       "       [-2.18253588,  1.76414415,  0.39828932],\n",
       "       [-1.51766939,  0.62257236,  0.70797265],\n",
       "       [-0.96155561,  1.89512185,  0.66477077],\n",
       "       [-2.01128901,  1.541357  ,  0.40582521],\n",
       "       [ 0.80506589, -1.35892381, -0.33733946],\n",
       "       [-0.17520904, -0.8818744 , -0.8329215 ],\n",
       "       [ 0.23562425,  0.48914597, -0.80839843],\n",
       "       [ 0.42035821, -1.07192701, -0.92816624],\n",
       "       [-0.5988956 , -0.30086168, -0.85782563],\n",
       "       [ 0.46581609,  0.18010264, -0.96616288],\n",
       "       [ 2.78442448,  0.63703185,  0.41036853],\n",
       "       [ 3.42909196, -2.07525184,  0.24487202],\n",
       "       [ 0.15436533, -0.65730064, -0.78295033],\n",
       "       [ 0.71390686, -0.89333076, -0.63195305],\n",
       "       [-0.25236121,  0.15735119, -1.19059589],\n",
       "       [ 1.29000159, -1.2555141 , -0.14404588],\n",
       "       [ 0.94982763, -1.87067448, -0.59865891],\n",
       "       [-0.96765998, -0.41301362, -1.32105968],\n",
       "       [-0.48915287,  0.83286698, -1.09890383],\n",
       "       [-0.94131433, -1.18635377, -0.97605932],\n",
       "       [ 0.55958462, -1.60672774, -0.3474346 ],\n",
       "       [ 1.96390503,  0.60351152, -0.0204286 ],\n",
       "       [ 0.12335657,  0.41402839, -0.91216018],\n",
       "       [-2.40893922, -2.04463449,  1.05254241],\n",
       "       [-1.95527998, -0.72627044,  1.05391222],\n",
       "       [-2.5867474 , -1.13381204,  0.83846834],\n",
       "       [-1.52334927, -0.60823624,  0.97595107],\n",
       "       [-2.10281914, -0.04580606,  0.6590874 ],\n",
       "       [-1.24475999, -1.15053479,  1.34279851],\n",
       "       [-3.0143879 , -1.2299118 ,  0.79990957],\n",
       "       [-1.07917226, -0.32825283,  1.23723648],\n",
       "       [ 1.16783772,  0.37614158, -0.79184583],\n",
       "       [ 1.9875475 ,  0.92983063, -0.72014977],\n",
       "       [ 1.30711318,  0.41467405, -0.57171834],\n",
       "       [ 3.08273842,  1.91976852,  0.34327974],\n",
       "       [-0.01142719,  0.22331275, -1.0431698 ],\n",
       "       [ 1.35578566,  0.33954785, -0.95067138],\n",
       "       [ 5.65565803,  0.56333827,  2.65577254],\n",
       "       [ 1.85826599, -0.71488255,  1.64348781],\n",
       "       [ 2.54870102,  0.01438935,  1.66195281]])"
      ]
     },
     "execution_count": 24,
     "metadata": {},
     "output_type": "execute_result"
    }
   ],
   "source": [
    "factors = pca.transform(df_scaled)\n",
    "factors"
   ]
  },
  {
   "cell_type": "markdown",
   "metadata": {},
   "source": [
    "## 2"
   ]
  },
  {
   "cell_type": "code",
   "execution_count": 45,
   "metadata": {},
   "outputs": [
    {
     "data": {
      "text/html": [
       "<div>\n",
       "<style scoped>\n",
       "    .dataframe tbody tr th:only-of-type {\n",
       "        vertical-align: middle;\n",
       "    }\n",
       "\n",
       "    .dataframe tbody tr th {\n",
       "        vertical-align: top;\n",
       "    }\n",
       "\n",
       "    .dataframe thead th {\n",
       "        text-align: right;\n",
       "    }\n",
       "</style>\n",
       "<table border=\"1\" class=\"dataframe\">\n",
       "  <thead>\n",
       "    <tr style=\"text-align: right;\">\n",
       "      <th></th>\n",
       "      <th>Fertility</th>\n",
       "      <th>Agriculture</th>\n",
       "      <th>Examination</th>\n",
       "      <th>Education</th>\n",
       "      <th>Catholic</th>\n",
       "      <th>Infant_Mortality</th>\n",
       "    </tr>\n",
       "  </thead>\n",
       "  <tbody>\n",
       "    <tr>\n",
       "      <th>0</th>\n",
       "      <td>-0.937748</td>\n",
       "      <td>-0.562404</td>\n",
       "      <td>0.786850</td>\n",
       "      <td>0.766248</td>\n",
       "      <td>-0.516523</td>\n",
       "      <td>-0.338293</td>\n",
       "    </tr>\n",
       "    <tr>\n",
       "      <th>1</th>\n",
       "      <td>0.245096</td>\n",
       "      <td>-0.701821</td>\n",
       "      <td>0.362441</td>\n",
       "      <td>0.271108</td>\n",
       "      <td>-0.119260</td>\n",
       "      <td>0.386190</td>\n",
       "    </tr>\n",
       "  </tbody>\n",
       "</table>\n",
       "</div>"
      ],
      "text/plain": [
       "   Fertility  Agriculture  Examination  Education  Catholic  Infant_Mortality\n",
       "0  -0.937748    -0.562404     0.786850   0.766248 -0.516523         -0.338293\n",
       "1   0.245096    -0.701821     0.362441   0.271108 -0.119260          0.386190"
      ]
     },
     "execution_count": 45,
     "metadata": {},
     "output_type": "execute_result"
    }
   ],
   "source": [
    "df_fa = FactorAnalysis(n_components=2)\n",
    "df_fa.fit(df_scaled)\n",
    "\n",
    "pd.DataFrame(df_fa.components_, columns=df.iloc[:,1:].columns)"
   ]
  },
  {
   "cell_type": "markdown",
   "metadata": {},
   "source": [
    "интересно, что у людей с образованием детская смертность высокая, а также фертильность ниже.\n",
    "\n",
    "то есть, получается 2 фактора: образованные люди с низкой фертильностью и необразованные люди с фертильностью вышше"
   ]
  },
  {
   "cell_type": "code",
   "execution_count": 53,
   "metadata": {},
   "outputs": [
    {
     "name": "stdout",
     "output_type": "stream",
     "text": [
      "Факторные нагрузки:\n",
      "                   Factor 1  Factor 2\n",
      "Fertility         0.854052  0.524927\n",
      "Agriculture       0.739690 -0.499463\n",
      "Examination      -0.896742  0.144556\n",
      "Education        -0.743460  0.096219\n",
      "Catholic          0.507412  0.049629\n",
      "Infant_Mortality  0.214422  0.452914\n",
      "\n",
      "Варианты объяснения:\n",
      "                                            Variance\n",
      "Factor 1   [2.9368689531570857, 0.7627602729514171]\n",
      "Factor 2  [0.4894781588595143, 0.12712671215856952]\n",
      "Factor 3   [0.4894781588595143, 0.6166048710180838]\n"
     ]
    }
   ],
   "source": [
    "# тут я поковырялся по рессурсам из интернета и нашел Факторную нагрузку,\n",
    "# коэффициент, который показывает, насколько сильно каждый показатель влияет на данный фактор\n",
    "\n",
    "# Определение количества факторов\n",
    "fa = FactorAnalyzer(n_factors=2, rotation=None)\n",
    "\n",
    "# Построение модели\n",
    "fa.fit(df_scaled)\n",
    "\n",
    "# Получение факторных нагрузок и вариантов объяснения\n",
    "loadings = pd.DataFrame(fa.loadings_, columns=['Factor 1', 'Factor 2'], index=df.iloc[:,1:].columns)\n",
    "variance = pd.DataFrame({'Variance': fa.get_factor_variance()}, index=['Factor 1', 'Factor 2', 'Factor 3'])\n",
    "\n",
    "print('Факторные нагрузки:\\n', loadings)\n",
    "print('\\nВарианты объяснения:\\n', variance)"
   ]
  },
  {
   "cell_type": "code",
   "execution_count": 43,
   "metadata": {},
   "outputs": [
    {
     "data": {
      "text/plain": [
       "Fertility           0.061741\n",
       "Agriculture         0.191887\n",
       "Examination         0.248986\n",
       "Education           0.339383\n",
       "Catholic            0.718931\n",
       "Infant_Mortality    0.735943\n",
       "dtype: float64"
      ]
     },
     "execution_count": 43,
     "metadata": {},
     "output_type": "execute_result"
    }
   ],
   "source": [
    "#значения факторов\n",
    "pd.Series(df_fa.noise_variance_, df.iloc[:,1:].columns)\n"
   ]
  },
  {
   "cell_type": "markdown",
   "metadata": {},
   "source": [
    "А может наоборт, там где смертность выше там люди образованнее?\n"
   ]
  },
  {
   "cell_type": "code",
   "execution_count": 47,
   "metadata": {},
   "outputs": [
    {
     "data": {
      "text/html": [
       "<div>\n",
       "<style scoped>\n",
       "    .dataframe tbody tr th:only-of-type {\n",
       "        vertical-align: middle;\n",
       "    }\n",
       "\n",
       "    .dataframe tbody tr th {\n",
       "        vertical-align: top;\n",
       "    }\n",
       "\n",
       "    .dataframe thead th {\n",
       "        text-align: right;\n",
       "    }\n",
       "</style>\n",
       "<table border=\"1\" class=\"dataframe\">\n",
       "  <thead>\n",
       "    <tr style=\"text-align: right;\">\n",
       "      <th></th>\n",
       "      <th>Fertility</th>\n",
       "      <th>Agriculture</th>\n",
       "      <th>Examination</th>\n",
       "      <th>Education</th>\n",
       "      <th>Catholic</th>\n",
       "      <th>Infant_Mortality</th>\n",
       "    </tr>\n",
       "  </thead>\n",
       "  <tbody>\n",
       "    <tr>\n",
       "      <th>0</th>\n",
       "      <td>-0.849643</td>\n",
       "      <td>-0.668730</td>\n",
       "      <td>0.838057</td>\n",
       "      <td>0.887996</td>\n",
       "      <td>-0.473847</td>\n",
       "      <td>-0.235409</td>\n",
       "    </tr>\n",
       "    <tr>\n",
       "      <th>1</th>\n",
       "      <td>0.204352</td>\n",
       "      <td>-0.060695</td>\n",
       "      <td>-0.151733</td>\n",
       "      <td>0.371261</td>\n",
       "      <td>0.744381</td>\n",
       "      <td>0.234170</td>\n",
       "    </tr>\n",
       "    <tr>\n",
       "      <th>2</th>\n",
       "      <td>-0.379035</td>\n",
       "      <td>0.527681</td>\n",
       "      <td>-0.258278</td>\n",
       "      <td>-0.041596</td>\n",
       "      <td>0.242989</td>\n",
       "      <td>-0.429940</td>\n",
       "    </tr>\n",
       "  </tbody>\n",
       "</table>\n",
       "</div>"
      ],
      "text/plain": [
       "   Fertility  Agriculture  Examination  Education  Catholic  Infant_Mortality\n",
       "0  -0.849643    -0.668730     0.838057   0.887996 -0.473847         -0.235409\n",
       "1   0.204352    -0.060695    -0.151733   0.371261  0.744381          0.234170\n",
       "2  -0.379035     0.527681    -0.258278  -0.041596  0.242989         -0.429940"
      ]
     },
     "execution_count": 47,
     "metadata": {},
     "output_type": "execute_result"
    }
   ],
   "source": [
    "fa = FactorAnalysis(n_components=3)\n",
    "fa.fit(df_scaled)\n",
    "pd.DataFrame(fa.components_, columns=df.iloc[:,1:].columns)"
   ]
  },
  {
   "cell_type": "code",
   "execution_count": 49,
   "metadata": {},
   "outputs": [],
   "source": [
    "fa = FactorAnalyzer(rotation='varimax') # вращение\n",
    "fa.fit(df.iloc[:,1:])\n",
    "ev, v = fa.get_eigenvalues() # собственные векторы"
   ]
  },
  {
   "cell_type": "code",
   "execution_count": 51,
   "metadata": {},
   "outputs": [
    {
     "data": {
      "image/png": "[encoded data removed]",
      "text/plain": [
       "<Figure size 640x480 with 1 Axes>"
      ]
     },
     "metadata": {},
     "output_type": "display_data"
    }
   ],
   "source": [
    "plt.scatter(range(1,df.iloc[:,1:].shape[1]+1),ev)\n",
    "plt.plot(range(1,df.iloc[:,1:].shape[1]+1),ev)\n",
    "plt.title('Scree Plot')\n",
    "plt.xlabel('Factors')\n",
    "plt.ylabel('Eigenvalue')\n",
    "plt.grid()\n",
    "plt.show()"
   ]
  },
  {
   "cell_type": "markdown",
   "metadata": {},
   "source": [
    "Из графика понятно что 2-3 фактора будет в самый раз"
   ]
  }
 ],
 "metadata": {
  "kernelspec": {
   "display_name": "Python 3",
   "language": "python",
   "name": "python3"
  },
  "language_info": {
   "codemirror_mode": {
    "name": "ipython",
    "version": 3
   },
   "file_extension": ".py",
   "mimetype": "text/x-python",
   "name": "python",
   "nbconvert_exporter": "python",
   "pygments_lexer": "ipython3",
   "version": "3.12.1"
  }
 },
 "nbformat": 4,
 "nbformat_minor": 2
}
